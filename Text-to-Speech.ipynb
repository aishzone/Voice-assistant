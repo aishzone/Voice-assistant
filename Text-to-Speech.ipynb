{
 "cells": [
  {
   "cell_type": "code",
   "execution_count": 2,
   "metadata": {},
   "outputs": [],
   "source": [
    "import nltk"
   ]
  },
  {
   "cell_type": "code",
   "execution_count": 3,
   "metadata": {},
   "outputs": [],
   "source": [
    "import nltk.corpus"
   ]
  },
  {
   "cell_type": "code",
   "execution_count": 4,
   "metadata": {},
   "outputs": [],
   "source": [
    "#Tokenization"
   ]
  },
  {
   "cell_type": "code",
   "execution_count": 5,
   "metadata": {},
   "outputs": [],
   "source": [
    "from nltk.tokenize import word_tokenize"
   ]
  },
  {
   "cell_type": "code",
   "execution_count": 6,
   "metadata": {},
   "outputs": [],
   "source": [
    "chess = \"Samay Raina is the best chess streamer in the world\""
   ]
  },
  {
   "cell_type": "code",
   "execution_count": 7,
   "metadata": {},
   "outputs": [
    {
     "data": {
      "text/plain": [
       "['Samay',\n",
       " 'Raina',\n",
       " 'is',\n",
       " 'the',\n",
       " 'best',\n",
       " 'chess',\n",
       " 'streamer',\n",
       " 'in',\n",
       " 'the',\n",
       " 'world']"
      ]
     },
     "execution_count": 7,
     "metadata": {},
     "output_type": "execute_result"
    }
   ],
   "source": [
    "word_tokenize(chess)"
   ]
  },
  {
   "cell_type": "code",
   "execution_count": 8,
   "metadata": {},
   "outputs": [],
   "source": [
    "#sentence tokenizer\n",
    "from nltk.tokenize import sent_tokenize"
   ]
  },
  {
   "cell_type": "code",
   "execution_count": 9,
   "metadata": {},
   "outputs": [],
   "source": [
    "chess2 = \"Samay Raina is the best streamer in the world. Sagar Shah is the best coach in the world\""
   ]
  },
  {
   "cell_type": "code",
   "execution_count": 10,
   "metadata": {},
   "outputs": [
    {
     "data": {
      "text/plain": [
       "['Samay Raina is the best streamer in the world.',\n",
       " 'Sagar Shah is the best coach in the world']"
      ]
     },
     "execution_count": 10,
     "metadata": {},
     "output_type": "execute_result"
    }
   ],
   "source": [
    "sent_tokenize(chess2)"
   ]
  },
  {
   "cell_type": "code",
   "execution_count": 11,
   "metadata": {},
   "outputs": [
    {
     "data": {
      "text/plain": [
       "10"
      ]
     },
     "execution_count": 11,
     "metadata": {},
     "output_type": "execute_result"
    }
   ],
   "source": [
    "#checking the number of tokens\n",
    "len(word_tokenize(chess))"
   ]
  },
  {
   "cell_type": "code",
   "execution_count": 12,
   "metadata": {},
   "outputs": [],
   "source": [
    "#ngrams and bigrams or trigrams"
   ]
  },
  {
   "cell_type": "code",
   "execution_count": 13,
   "metadata": {},
   "outputs": [],
   "source": [
    "astronaut = \"Can anybody hear me or am I talking to myself? My mind is running empty in the search for someone else\""
   ]
  },
  {
   "cell_type": "code",
   "execution_count": 14,
   "metadata": {},
   "outputs": [],
   "source": [
    "astronaut_token = (word_tokenize(astronaut))"
   ]
  },
  {
   "cell_type": "code",
   "execution_count": 15,
   "metadata": {},
   "outputs": [
    {
     "data": {
      "text/plain": [
       "[('Can', 'anybody'),\n",
       " ('anybody', 'hear'),\n",
       " ('hear', 'me'),\n",
       " ('me', 'or'),\n",
       " ('or', 'am'),\n",
       " ('am', 'I'),\n",
       " ('I', 'talking'),\n",
       " ('talking', 'to'),\n",
       " ('to', 'myself'),\n",
       " ('myself', '?'),\n",
       " ('?', 'My'),\n",
       " ('My', 'mind'),\n",
       " ('mind', 'is'),\n",
       " ('is', 'running'),\n",
       " ('running', 'empty'),\n",
       " ('empty', 'in'),\n",
       " ('in', 'the'),\n",
       " ('the', 'search'),\n",
       " ('search', 'for'),\n",
       " ('for', 'someone'),\n",
       " ('someone', 'else')]"
      ]
     },
     "execution_count": 15,
     "metadata": {},
     "output_type": "execute_result"
    }
   ],
   "source": [
    "list(nltk.bigrams(astronaut_token))"
   ]
  },
  {
   "cell_type": "code",
   "execution_count": 16,
   "metadata": {},
   "outputs": [
    {
     "data": {
      "text/plain": [
       "[('Can', 'anybody', 'hear'),\n",
       " ('anybody', 'hear', 'me'),\n",
       " ('hear', 'me', 'or'),\n",
       " ('me', 'or', 'am'),\n",
       " ('or', 'am', 'I'),\n",
       " ('am', 'I', 'talking'),\n",
       " ('I', 'talking', 'to'),\n",
       " ('talking', 'to', 'myself'),\n",
       " ('to', 'myself', '?'),\n",
       " ('myself', '?', 'My'),\n",
       " ('?', 'My', 'mind'),\n",
       " ('My', 'mind', 'is'),\n",
       " ('mind', 'is', 'running'),\n",
       " ('is', 'running', 'empty'),\n",
       " ('running', 'empty', 'in'),\n",
       " ('empty', 'in', 'the'),\n",
       " ('in', 'the', 'search'),\n",
       " ('the', 'search', 'for'),\n",
       " ('search', 'for', 'someone'),\n",
       " ('for', 'someone', 'else')]"
      ]
     },
     "execution_count": 16,
     "metadata": {},
     "output_type": "execute_result"
    }
   ],
   "source": [
    "list(nltk.trigrams(astronaut_token))"
   ]
  },
  {
   "cell_type": "code",
   "execution_count": 17,
   "metadata": {},
   "outputs": [
    {
     "data": {
      "text/plain": [
       "[('Can', 'anybody', 'hear', 'me', 'or'),\n",
       " ('anybody', 'hear', 'me', 'or', 'am'),\n",
       " ('hear', 'me', 'or', 'am', 'I'),\n",
       " ('me', 'or', 'am', 'I', 'talking'),\n",
       " ('or', 'am', 'I', 'talking', 'to'),\n",
       " ('am', 'I', 'talking', 'to', 'myself'),\n",
       " ('I', 'talking', 'to', 'myself', '?'),\n",
       " ('talking', 'to', 'myself', '?', 'My'),\n",
       " ('to', 'myself', '?', 'My', 'mind'),\n",
       " ('myself', '?', 'My', 'mind', 'is'),\n",
       " ('?', 'My', 'mind', 'is', 'running'),\n",
       " ('My', 'mind', 'is', 'running', 'empty'),\n",
       " ('mind', 'is', 'running', 'empty', 'in'),\n",
       " ('is', 'running', 'empty', 'in', 'the'),\n",
       " ('running', 'empty', 'in', 'the', 'search'),\n",
       " ('empty', 'in', 'the', 'search', 'for'),\n",
       " ('in', 'the', 'search', 'for', 'someone'),\n",
       " ('the', 'search', 'for', 'someone', 'else')]"
      ]
     },
     "execution_count": 17,
     "metadata": {},
     "output_type": "execute_result"
    }
   ],
   "source": [
    "list(nltk.ngrams(astronaut_token,5))"
   ]
  },
  {
   "cell_type": "code",
   "execution_count": 18,
   "metadata": {},
   "outputs": [],
   "source": [
    "#Streaming"
   ]
  },
  {
   "cell_type": "code",
   "execution_count": 19,
   "metadata": {},
   "outputs": [],
   "source": [
    "from nltk.stem import PorterStemmer"
   ]
  },
  {
   "cell_type": "code",
   "execution_count": 20,
   "metadata": {},
   "outputs": [],
   "source": [
    "my_stem = PorterStemmer()"
   ]
  },
  {
   "cell_type": "code",
   "execution_count": 21,
   "metadata": {},
   "outputs": [
    {
     "data": {
      "text/plain": [
       "'eat'"
      ]
     },
     "execution_count": 21,
     "metadata": {},
     "output_type": "execute_result"
    }
   ],
   "source": [
    "my_stem.stem(\"eating\")"
   ]
  },
  {
   "cell_type": "code",
   "execution_count": 22,
   "metadata": {},
   "outputs": [
    {
     "data": {
      "text/plain": [
       "'shop'"
      ]
     },
     "execution_count": 22,
     "metadata": {},
     "output_type": "execute_result"
    }
   ],
   "source": [
    "my_stem.stem(\"shopping\")"
   ]
  },
  {
   "cell_type": "code",
   "execution_count": 23,
   "metadata": {},
   "outputs": [
    {
     "data": {
      "text/plain": [
       "'go'"
      ]
     },
     "execution_count": 23,
     "metadata": {},
     "output_type": "execute_result"
    }
   ],
   "source": [
    "my_stem.stem(\"going\")"
   ]
  },
  {
   "cell_type": "code",
   "execution_count": 24,
   "metadata": {},
   "outputs": [],
   "source": [
    "#pos-tagging"
   ]
  },
  {
   "cell_type": "code",
   "execution_count": 25,
   "metadata": {},
   "outputs": [],
   "source": [
    "tom = \"Tom Hanks is the best actor in the world\""
   ]
  },
  {
   "cell_type": "code",
   "execution_count": 26,
   "metadata": {},
   "outputs": [],
   "source": [
    "tom_token = word_tokenize(tom)"
   ]
  },
  {
   "cell_type": "code",
   "execution_count": 27,
   "metadata": {},
   "outputs": [
    {
     "data": {
      "text/plain": [
       "[('Tom', 'NNP'),\n",
       " ('Hanks', 'NNP'),\n",
       " ('is', 'VBZ'),\n",
       " ('the', 'DT'),\n",
       " ('best', 'JJS'),\n",
       " ('actor', 'NN'),\n",
       " ('in', 'IN'),\n",
       " ('the', 'DT'),\n",
       " ('world', 'NN')]"
      ]
     },
     "execution_count": 27,
     "metadata": {},
     "output_type": "execute_result"
    }
   ],
   "source": [
    "nltk.pos_tag(tom_token)\n",
    "#NNP - proper noun\n",
    "#VBZ - verbs\n",
    "#DT - determinant\n",
    "#JJS - superlative adjective"
   ]
  },
  {
   "cell_type": "code",
   "execution_count": 28,
   "metadata": {},
   "outputs": [],
   "source": [
    "#Named Entity recognition"
   ]
  },
  {
   "cell_type": "code",
   "execution_count": 29,
   "metadata": {},
   "outputs": [],
   "source": [
    "from nltk import ne_chunk"
   ]
  },
  {
   "cell_type": "code",
   "execution_count": 30,
   "metadata": {},
   "outputs": [],
   "source": [
    "president = \"Barack Obama was the 44th president of america\""
   ]
  },
  {
   "cell_type": "code",
   "execution_count": 31,
   "metadata": {},
   "outputs": [],
   "source": [
    "president_token = word_tokenize(president)"
   ]
  },
  {
   "cell_type": "code",
   "execution_count": 32,
   "metadata": {},
   "outputs": [],
   "source": [
    "president_pos = nltk.pos_tag(president_token)"
   ]
  },
  {
   "cell_type": "code",
   "execution_count": 33,
   "metadata": {},
   "outputs": [
    {
     "name": "stdout",
     "output_type": "stream",
     "text": [
      "(S\n",
      "  (PERSON Barack/NNP)\n",
      "  (PERSON Obama/NNP)\n",
      "  was/VBD\n",
      "  the/DT\n",
      "  44th/JJ\n",
      "  president/NN\n",
      "  of/IN\n",
      "  america/NN)\n"
     ]
    },
    {
     "name": "stderr",
     "output_type": "stream",
     "text": [
      "[nltk_data] Downloading package words to\n",
      "[nltk_data]     C:\\Users\\Aishwarya\\AppData\\Roaming\\nltk_data...\n",
      "[nltk_data]   Package words is already up-to-date!\n"
     ]
    }
   ],
   "source": [
    "nltk.download('words')\n",
    "print(ne_chunk(president_pos))"
   ]
  },
  {
   "cell_type": "code",
   "execution_count": 34,
   "metadata": {},
   "outputs": [
    {
     "name": "stdout",
     "output_type": "stream",
     "text": [
      "Requirement already satisfied: gTTS in c:\\users\\aishwarya\\onedrive\\anaconda3\\lib\\site-packages (2.1.1)\n",
      "Requirement already satisfied: beautifulsoup4 in c:\\users\\aishwarya\\onedrive\\anaconda3\\lib\\site-packages (from gTTS) (4.9.1)\n",
      "Requirement already satisfied: gtts-token>=1.1.3 in c:\\users\\aishwarya\\onedrive\\anaconda3\\lib\\site-packages (from gTTS) (1.1.3)\n",
      "Requirement already satisfied: click in c:\\users\\aishwarya\\onedrive\\anaconda3\\lib\\site-packages (from gTTS) (7.1.2)\n",
      "Requirement already satisfied: six in c:\\users\\aishwarya\\onedrive\\anaconda3\\lib\\site-packages (from gTTS) (1.15.0)\n",
      "Requirement already satisfied: requests in c:\\users\\aishwarya\\onedrive\\anaconda3\\lib\\site-packages (from gTTS) (2.24.0)\n",
      "Requirement already satisfied: soupsieve>1.2 in c:\\users\\aishwarya\\onedrive\\anaconda3\\lib\\site-packages (from beautifulsoup4->gTTS) (2.0.1)\n",
      "Requirement already satisfied: urllib3!=1.25.0,!=1.25.1,<1.26,>=1.21.1 in c:\\users\\aishwarya\\onedrive\\anaconda3\\lib\\site-packages (from requests->gTTS) (1.25.9)\n",
      "Requirement already satisfied: certifi>=2017.4.17 in c:\\users\\aishwarya\\onedrive\\anaconda3\\lib\\site-packages (from requests->gTTS) (2020.6.20)\n",
      "Requirement already satisfied: chardet<4,>=3.0.2 in c:\\users\\aishwarya\\onedrive\\anaconda3\\lib\\site-packages (from requests->gTTS) (3.0.4)\n",
      "Requirement already satisfied: idna<3,>=2.5 in c:\\users\\aishwarya\\onedrive\\anaconda3\\lib\\site-packages (from requests->gTTS) (2.10)\n"
     ]
    }
   ],
   "source": [
    "!pip install gTTS"
   ]
  },
  {
   "cell_type": "code",
   "execution_count": 48,
   "metadata": {},
   "outputs": [
    {
     "data": {
      "text/html": [
       "\n",
       "                <audio  controls=\"controls\" autoplay=\"autoplay\">\n",
       "                    <source src=\"data:audio/wav;base64,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\" type=\"audio/wav\" />\n",
       "                    Your browser does not support the audio element.\n",
       "                </audio>\n",
       "              "
      ],
      "text/plain": [
       "<IPython.lib.display.Audio object>"
      ]
     },
     "execution_count": 48,
     "metadata": {},
     "output_type": "execute_result"
    }
   ],
   "source": [
    "from gtts import gTTS\n",
    "from IPython.display import Audio\n",
    "tts = gTTS('what is happening here?')\n",
    "tts.save('1.wav')\n",
    "sound_file = '1.wav'\n",
    "Audio(sound_file, autoplay=True)"
   ]
  },
  {
   "cell_type": "code",
   "execution_count": null,
   "metadata": {},
   "outputs": [],
   "source": []
  }
 ],
 "metadata": {
  "kernelspec": {
   "display_name": "Python 3",
   "language": "python",
   "name": "python3"
  },
  "language_info": {
   "codemirror_mode": {
    "name": "ipython",
    "version": 3
   },
   "file_extension": ".py",
   "mimetype": "text/x-python",
   "name": "python",
   "nbconvert_exporter": "python",
   "pygments_lexer": "ipython3",
   "version": "3.8.3"
  }
 },
 "nbformat": 4,
 "nbformat_minor": 4
}
